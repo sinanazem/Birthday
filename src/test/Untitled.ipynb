{
 "cells": [
  {
   "cell_type": "code",
   "execution_count": 52,
   "id": "94badf6f",
   "metadata": {},
   "outputs": [],
   "source": [
    "import datetime\n",
    "import pandas as pd"
   ]
  },
  {
   "cell_type": "code",
   "execution_count": 19,
   "id": "531e332e",
   "metadata": {},
   "outputs": [],
   "source": [
    "def get_birthday(year_i,month_i,day_i):\n",
    "    today = datetime.date.today()\n",
    "    date_of_birth = datetime.date(year_i,month_i,day_i)\n",
    "    birthday = datetime.date(today.year,month_i,day_i)\n",
    "    result = (birthday - today).days\n",
    "    return result"
   ]
  },
  {
   "cell_type": "code",
   "execution_count": 20,
   "id": "28dffd51",
   "metadata": {},
   "outputs": [
    {
     "data": {
      "text/plain": [
       "15"
      ]
     },
     "execution_count": 20,
     "metadata": {},
     "output_type": "execute_result"
    }
   ],
   "source": [
    "get_birthday(2000,12,20)"
   ]
  },
  {
   "cell_type": "code",
   "execution_count": 178,
   "id": "6b3548e5",
   "metadata": {},
   "outputs": [
    {
     "name": "stdout",
     "output_type": "stream",
     "text": [
      "Today: December 05, 2021\n",
      "These people were born on your birthday: \n"
     ]
    }
   ],
   "source": [
    "import datetime\n",
    "import pandas as pd\n",
    "\n",
    "\n",
    "class Birthday:\n",
    "    today = datetime.date.today()\n",
    "    \n",
    "    def __init__(self,name,year,month,day):\n",
    "        print(f'Today: {Birthday.today.strftime(\"%B %d, %Y\")}')\n",
    "        self.name = name\n",
    "        self.year = year\n",
    "        self.month = month\n",
    "        self.day = day\n",
    "    \n",
    "    def get_birthday(self):\n",
    "        today = datetime.date.today()\n",
    "        date_of_birth = datetime.date(self.year,self.month,self.day)\n",
    "        birthday = datetime.date(today.year,self.month,self.day)\n",
    "        result = (birthday - today).days\n",
    "        \n",
    "        if result == 0:\n",
    "            return f\"Dear{self.name} Happy Birthday!\"\n",
    "        \n",
    "        if result<0:\n",
    "            return f\"Dear {self.name} about {365 - abs(result)} days until your birthday!\"\n",
    "        return f\"Dear{self.name} {result} days until your birthday!\"\n",
    "    \n",
    "    def famous_people(self,df=pd.read_csv(\"./src/data/famous_birthdates_final.csv\")):\n",
    "    \n",
    "        famous_people_list = []\n",
    "        date = datetime.date(self.year,self.month,self.day)\n",
    "        for item in df['birthDate']:\n",
    "            if str(date)[5:] == item[5:]:\n",
    "                famous_people_list.extend(list(df[df['birthDate'] == item][\"name\"]))\n",
    "    \n",
    "        print(\"These people were born on your birthday: \")\n",
    "        return famous_people_list\n",
    "    \n",
    "    @staticmethod\n",
    "    def calculate_age_seconds(birthday):\n",
    "        birthday = str(birthday)\n",
    "        birthday = datetime.datetime.strptime(birthday,\"%m/%d/%Y\")\n",
    "        result = (Time.today - birthday).total_seconds()\n",
    "        return f\"About {result} seconds have passed since you were born!\"\n",
    "    \n",
    "    \n",
    "    def __str__(self):\n",
    "        return f'Dear {self.name}\\n your birthday is in {self.year},{self.month},{self.day}'\n",
    "    \n",
    "    def __repr__(self):\n",
    "        return f'{self.__class__.__name__}({self.name},{self.year},{self.month},{self.day})'"
   ]
  },
  {
   "cell_type": "code",
   "execution_count": 175,
   "id": "8f8ca7a3",
   "metadata": {},
   "outputs": [
    {
     "name": "stdout",
     "output_type": "stream",
     "text": [
      "Today: December 05, 2021\n"
     ]
    },
    {
     "data": {
      "text/plain": [
       "'Dear Sina about 351 days until your birthday!'"
      ]
     },
     "execution_count": 175,
     "metadata": {},
     "output_type": "execute_result"
    }
   ],
   "source": [
    "o = Birthday(\"Sina\",2000,11,21)\n",
    "o.get_birthday()"
   ]
  },
  {
   "cell_type": "code",
   "execution_count": 177,
   "id": "34a1df2a",
   "metadata": {},
   "outputs": [
    {
     "name": "stdout",
     "output_type": "stream",
     "text": [
      "These people were born on your birthday: \n"
     ]
    },
    {
     "data": {
      "text/plain": [
       "['Aikman Troy',\n",
       " 'Brown Tina',\n",
       " 'Durbin Richard J',\n",
       " 'Howe Tina',\n",
       " 'Jones Cherry',\n",
       " 'Kanell Danny',\n",
       " 'Kaufman Moises',\n",
       " 'Singer Isaac Bashevis',\n",
       " 'Strahan Michael',\n",
       " 'Tua David']"
      ]
     },
     "execution_count": 177,
     "metadata": {},
     "output_type": "execute_result"
    }
   ],
   "source": [
    "o.famous_people()"
   ]
  },
  {
   "cell_type": "code",
   "execution_count": 85,
   "id": "dcbf2c49",
   "metadata": {},
   "outputs": [
    {
     "data": {
      "text/html": [
       "<div>\n",
       "<style scoped>\n",
       "    .dataframe tbody tr th:only-of-type {\n",
       "        vertical-align: middle;\n",
       "    }\n",
       "\n",
       "    .dataframe tbody tr th {\n",
       "        vertical-align: top;\n",
       "    }\n",
       "\n",
       "    .dataframe thead th {\n",
       "        text-align: right;\n",
       "    }\n",
       "</style>\n",
       "<table border=\"1\" class=\"dataframe\">\n",
       "  <thead>\n",
       "    <tr style=\"text-align: right;\">\n",
       "      <th></th>\n",
       "      <th>Unnamed: 0</th>\n",
       "      <th>name</th>\n",
       "      <th>birthDate</th>\n",
       "    </tr>\n",
       "  </thead>\n",
       "  <tbody>\n",
       "    <tr>\n",
       "      <th>3205</th>\n",
       "      <td>3205</td>\n",
       "      <td>Pullman Philip</td>\n",
       "      <td>1946-10-19</td>\n",
       "    </tr>\n",
       "  </tbody>\n",
       "</table>\n",
       "</div>"
      ],
      "text/plain": [
       "      Unnamed: 0            name   birthDate\n",
       "3205        3205  Pullman Philip  1946-10-19"
      ]
     },
     "execution_count": 85,
     "metadata": {},
     "output_type": "execute_result"
    }
   ],
   "source": [
    "\n",
    "df = pd.read_csv(\"../famous_birthdates_final.csv\")\n",
    "df[df[\"name\"] == \"Pullman Philip\"]"
   ]
  },
  {
   "cell_type": "code",
   "execution_count": 117,
   "id": "c293e2c5",
   "metadata": {},
   "outputs": [],
   "source": [
    "def func_1(y,m,d,df):\n",
    "    \n",
    "    l = []\n",
    "    date = datetime.date(y,m,d)\n",
    "    for item in df['birthDate']:\n",
    "        if str(date)[5:] == item[5:]:\n",
    "            l.extend(list(df[df['birthDate'] == item][\"name\"]))\n",
    "    return l    "
   ]
  },
  {
   "cell_type": "code",
   "execution_count": 118,
   "id": "c643cde0",
   "metadata": {},
   "outputs": [
    {
     "data": {
      "text/plain": [
       "['Aikman Troy',\n",
       " 'Brown Tina',\n",
       " 'Durbin Richard J',\n",
       " 'Howe Tina',\n",
       " 'Jones Cherry',\n",
       " 'Kanell Danny',\n",
       " 'Kaufman Moises',\n",
       " 'Singer Isaac Bashevis',\n",
       " 'Strahan Michael',\n",
       " 'Tua David']"
      ]
     },
     "execution_count": 118,
     "metadata": {},
     "output_type": "execute_result"
    }
   ],
   "source": [
    "func_1(1976,11,21,df)"
   ]
  },
  {
   "cell_type": "code",
   "execution_count": 56,
   "id": "3d04850a",
   "metadata": {},
   "outputs": [],
   "source": [
    "# def get_birthday(year_i,month_i,day_i):\n",
    "#     today = datetime.date.today()\n",
    "#     date_of_birth = datetime.date(year_i,month_i,day_i)\n",
    "#     birthday = datetime.date(today.year,month_i,day_i)\n",
    "#     result = (birthday - today).days\n",
    "#     return result"
   ]
  },
  {
   "cell_type": "code",
   "execution_count": null,
   "id": "acd9d170",
   "metadata": {},
   "outputs": [],
   "source": []
  }
 ],
 "metadata": {
  "kernelspec": {
   "display_name": "Python 3",
   "language": "python",
   "name": "python3"
  },
  "language_info": {
   "codemirror_mode": {
    "name": "ipython",
    "version": 3
   },
   "file_extension": ".py",
   "mimetype": "text/x-python",
   "name": "python",
   "nbconvert_exporter": "python",
   "pygments_lexer": "ipython3",
   "version": "3.8.8"
  }
 },
 "nbformat": 4,
 "nbformat_minor": 5
}
