{
 "cells": [
  {
   "cell_type": "code",
   "execution_count": 25,
   "id": "6b3548e5",
   "metadata": {},
   "outputs": [],
   "source": [
    "import datetime\n",
    "import pandas as pd\n",
    "\n",
    "\n",
    "class Birthday:\n",
    "    today = datetime.date.today()\n",
    "    \n",
    "    def __init__(self,name,year,month,day):\n",
    "        print(f'Today: {Birthday.today.strftime(\"%B %d, %Y\")}')\n",
    "        self.name = name\n",
    "        self.year = year\n",
    "        self.month = month\n",
    "        self.day = day\n",
    "    \n",
    "    def calculate_age_day(self):\n",
    "        today = datetime.date.today()\n",
    "        date_of_birth = datetime.date(self.year,self.month,self.day)\n",
    "        birthday = datetime.date(today.year,self.month,self.day)\n",
    "        result = (birthday - today).days\n",
    "        \n",
    "        if result == 0:\n",
    "            return f\"Dear{self.name} Happy Birthday!\"\n",
    "        \n",
    "        if result<0:\n",
    "            return f\"Dear {self.name} about {365 - abs(result)} days until your birthday!\"\n",
    "        return f\"Dear{self.name} {result} days until your birthday!\"\n",
    "    \n",
    "    def famous_people(self,df=pd.read_csv(\"../data/famous_birthdates_final.csv\")):\n",
    "    \n",
    "        famous_people_list = []\n",
    "        date = datetime.date(self.year,self.month,self.day)\n",
    "        for item in df['birthDate']:\n",
    "            if str(date)[5:] == item[5:]:\n",
    "                famous_people_list.extend(list(df[df['birthDate'] == item][\"name\"]))\n",
    "    \n",
    "        print(\"These people were born on your birthday: \")\n",
    "        return famous_people_list\n",
    "    \n",
    "    @staticmethod\n",
    "    def calculate_age_seconds(birthday):\n",
    "        birthday = str(birthday)\n",
    "        birthday = datetime.datetime.strptime(birthday,\"%m/%d/%Y\")\n",
    "        result = (datetime.datetime.now() - birthday).total_seconds()\n",
    "        return f\"About {result} seconds have passed since you were born!\"\n",
    "    \n",
    "    \n",
    "    def __str__(self):\n",
    "        return f'Dear {self.name}\\n your birthday is in {self.year},{self.month},{self.day}'\n",
    "    \n",
    "    def __repr__(self):\n",
    "        return f'{self.__class__.__name__}({self.name},{self.year},{self.month},{self.day})'"
   ]
  },
  {
   "cell_type": "code",
   "execution_count": 23,
   "id": "8f8ca7a3",
   "metadata": {},
   "outputs": [
    {
     "name": "stdout",
     "output_type": "stream",
     "text": [
      "Today: December 11, 2021\n"
     ]
    }
   ],
   "source": [
    "o = Birthday(\"Sina\",2000,11,21)\n"
   ]
  },
  {
   "cell_type": "code",
   "execution_count": 24,
   "id": "34a1df2a",
   "metadata": {},
   "outputs": [
    {
     "data": {
      "text/plain": [
       "'About 665332979.265101 seconds have passed since you were born!'"
      ]
     },
     "execution_count": 24,
     "metadata": {},
     "output_type": "execute_result"
    }
   ],
   "source": [
    "Birthday.calculate_age_seconds(\"11/11/2000\")"
   ]
  },
  {
   "cell_type": "code",
   "execution_count": null,
   "id": "dcbf2c49",
   "metadata": {},
   "outputs": [],
   "source": []
  },
  {
   "cell_type": "code",
   "execution_count": null,
   "id": "c293e2c5",
   "metadata": {},
   "outputs": [],
   "source": []
  },
  {
   "cell_type": "code",
   "execution_count": null,
   "id": "c643cde0",
   "metadata": {},
   "outputs": [],
   "source": []
  },
  {
   "cell_type": "code",
   "execution_count": null,
   "id": "3d04850a",
   "metadata": {},
   "outputs": [],
   "source": []
  },
  {
   "cell_type": "code",
   "execution_count": null,
   "id": "acd9d170",
   "metadata": {},
   "outputs": [],
   "source": []
  }
 ],
 "metadata": {
  "kernelspec": {
   "display_name": "Python 3 (ipykernel)",
   "language": "python",
   "name": "python3"
  },
  "language_info": {
   "codemirror_mode": {
    "name": "ipython",
    "version": 3
   },
   "file_extension": ".py",
   "mimetype": "text/x-python",
   "name": "python",
   "nbconvert_exporter": "python",
   "pygments_lexer": "ipython3",
   "version": "3.9.7"
  }
 },
 "nbformat": 4,
 "nbformat_minor": 5
}
